{
 "cells": [
  {
   "cell_type": "code",
   "execution_count": 1,
   "metadata": {},
   "outputs": [],
   "source": [
    "# Dependencies\n",
    "import numpy as np\n",
    "import pandas as pd\n",
    "import os"
   ]
  },
  {
   "cell_type": "code",
   "execution_count": 2,
   "metadata": {},
   "outputs": [
    {
     "data": {
      "text/html": [
       "<div>\n",
       "<style scoped>\n",
       "    .dataframe tbody tr th:only-of-type {\n",
       "        vertical-align: middle;\n",
       "    }\n",
       "\n",
       "    .dataframe tbody tr th {\n",
       "        vertical-align: top;\n",
       "    }\n",
       "\n",
       "    .dataframe thead th {\n",
       "        text-align: right;\n",
       "    }\n",
       "</style>\n",
       "<table border=\"1\" class=\"dataframe\">\n",
       "  <thead>\n",
       "    <tr style=\"text-align: right;\">\n",
       "      <th></th>\n",
       "      <th>Unnamed: 0</th>\n",
       "      <th>ac45bi501</th>\n",
       "      <th>ac45bi5010</th>\n",
       "      <th>ac45bi5011</th>\n",
       "      <th>ac45bi5012</th>\n",
       "      <th>ac45bi5013</th>\n",
       "      <th>ac45bi5014</th>\n",
       "      <th>ac45bi5015</th>\n",
       "      <th>ac45bi5016</th>\n",
       "      <th>ac45bi5017</th>\n",
       "      <th>...</th>\n",
       "      <th>ac45bi5019</th>\n",
       "      <th>ac45bi502</th>\n",
       "      <th>ac45bi503</th>\n",
       "      <th>ac45bi504</th>\n",
       "      <th>ac45bi505</th>\n",
       "      <th>ac45bi506</th>\n",
       "      <th>ac45bi507</th>\n",
       "      <th>ac45bi508</th>\n",
       "      <th>ac45bi509</th>\n",
       "      <th>raster_frame</th>\n",
       "    </tr>\n",
       "  </thead>\n",
       "  <tbody>\n",
       "    <tr>\n",
       "      <th>0</th>\n",
       "      <td>1</td>\n",
       "      <td>120.0</td>\n",
       "      <td>197.0</td>\n",
       "      <td>53.0</td>\n",
       "      <td>2075.0</td>\n",
       "      <td>357.0</td>\n",
       "      <td>11.0</td>\n",
       "      <td>71.0</td>\n",
       "      <td>1018.0</td>\n",
       "      <td>77.0</td>\n",
       "      <td>...</td>\n",
       "      <td>971.0</td>\n",
       "      <td>111.0</td>\n",
       "      <td>40.0</td>\n",
       "      <td>5637.0</td>\n",
       "      <td>289.0</td>\n",
       "      <td>15.0</td>\n",
       "      <td>274.0</td>\n",
       "      <td>58.0</td>\n",
       "      <td>197.0</td>\n",
       "      <td>0</td>\n",
       "    </tr>\n",
       "    <tr>\n",
       "      <th>1</th>\n",
       "      <td>2</td>\n",
       "      <td>119.0</td>\n",
       "      <td>196.0</td>\n",
       "      <td>52.0</td>\n",
       "      <td>2088.0</td>\n",
       "      <td>361.0</td>\n",
       "      <td>11.0</td>\n",
       "      <td>71.0</td>\n",
       "      <td>1029.0</td>\n",
       "      <td>77.0</td>\n",
       "      <td>...</td>\n",
       "      <td>982.0</td>\n",
       "      <td>111.0</td>\n",
       "      <td>40.0</td>\n",
       "      <td>5636.0</td>\n",
       "      <td>287.0</td>\n",
       "      <td>13.0</td>\n",
       "      <td>274.0</td>\n",
       "      <td>57.0</td>\n",
       "      <td>196.0</td>\n",
       "      <td>0</td>\n",
       "    </tr>\n",
       "    <tr>\n",
       "      <th>2</th>\n",
       "      <td>3</td>\n",
       "      <td>121.0</td>\n",
       "      <td>198.0</td>\n",
       "      <td>53.0</td>\n",
       "      <td>2055.0</td>\n",
       "      <td>355.0</td>\n",
       "      <td>11.0</td>\n",
       "      <td>71.0</td>\n",
       "      <td>1012.0</td>\n",
       "      <td>76.0</td>\n",
       "      <td>...</td>\n",
       "      <td>965.0</td>\n",
       "      <td>111.0</td>\n",
       "      <td>40.0</td>\n",
       "      <td>5658.0</td>\n",
       "      <td>289.0</td>\n",
       "      <td>15.0</td>\n",
       "      <td>274.0</td>\n",
       "      <td>58.0</td>\n",
       "      <td>198.0</td>\n",
       "      <td>0</td>\n",
       "    </tr>\n",
       "    <tr>\n",
       "      <th>3</th>\n",
       "      <td>4</td>\n",
       "      <td>121.0</td>\n",
       "      <td>198.0</td>\n",
       "      <td>53.0</td>\n",
       "      <td>2038.0</td>\n",
       "      <td>352.0</td>\n",
       "      <td>11.0</td>\n",
       "      <td>71.0</td>\n",
       "      <td>1003.0</td>\n",
       "      <td>75.0</td>\n",
       "      <td>...</td>\n",
       "      <td>957.0</td>\n",
       "      <td>111.0</td>\n",
       "      <td>40.0</td>\n",
       "      <td>5684.0</td>\n",
       "      <td>290.0</td>\n",
       "      <td>15.0</td>\n",
       "      <td>275.0</td>\n",
       "      <td>59.0</td>\n",
       "      <td>198.0</td>\n",
       "      <td>0</td>\n",
       "    </tr>\n",
       "    <tr>\n",
       "      <th>4</th>\n",
       "      <td>5</td>\n",
       "      <td>117.0</td>\n",
       "      <td>194.0</td>\n",
       "      <td>49.0</td>\n",
       "      <td>2082.0</td>\n",
       "      <td>362.0</td>\n",
       "      <td>11.0</td>\n",
       "      <td>72.0</td>\n",
       "      <td>1033.0</td>\n",
       "      <td>75.0</td>\n",
       "      <td>...</td>\n",
       "      <td>987.0</td>\n",
       "      <td>111.0</td>\n",
       "      <td>40.0</td>\n",
       "      <td>5682.0</td>\n",
       "      <td>287.0</td>\n",
       "      <td>11.0</td>\n",
       "      <td>276.0</td>\n",
       "      <td>54.0</td>\n",
       "      <td>194.0</td>\n",
       "      <td>0</td>\n",
       "    </tr>\n",
       "  </tbody>\n",
       "</table>\n",
       "<p>5 rows × 21 columns</p>\n",
       "</div>"
      ],
      "text/plain": [
       "   Unnamed: 0  ac45bi501  ac45bi5010  ac45bi5011  ac45bi5012  ac45bi5013  \\\n",
       "0           1      120.0       197.0        53.0      2075.0       357.0   \n",
       "1           2      119.0       196.0        52.0      2088.0       361.0   \n",
       "2           3      121.0       198.0        53.0      2055.0       355.0   \n",
       "3           4      121.0       198.0        53.0      2038.0       352.0   \n",
       "4           5      117.0       194.0        49.0      2082.0       362.0   \n",
       "\n",
       "   ac45bi5014  ac45bi5015  ac45bi5016  ac45bi5017      ...       ac45bi5019  \\\n",
       "0        11.0        71.0      1018.0        77.0      ...            971.0   \n",
       "1        11.0        71.0      1029.0        77.0      ...            982.0   \n",
       "2        11.0        71.0      1012.0        76.0      ...            965.0   \n",
       "3        11.0        71.0      1003.0        75.0      ...            957.0   \n",
       "4        11.0        72.0      1033.0        75.0      ...            987.0   \n",
       "\n",
       "   ac45bi502  ac45bi503  ac45bi504  ac45bi505  ac45bi506  ac45bi507  \\\n",
       "0      111.0       40.0     5637.0      289.0       15.0      274.0   \n",
       "1      111.0       40.0     5636.0      287.0       13.0      274.0   \n",
       "2      111.0       40.0     5658.0      289.0       15.0      274.0   \n",
       "3      111.0       40.0     5684.0      290.0       15.0      275.0   \n",
       "4      111.0       40.0     5682.0      287.0       11.0      276.0   \n",
       "\n",
       "   ac45bi508  ac45bi509  raster_frame  \n",
       "0       58.0      197.0             0  \n",
       "1       57.0      196.0             0  \n",
       "2       58.0      198.0             0  \n",
       "3       59.0      198.0             0  \n",
       "4       54.0      194.0             0  \n",
       "\n",
       "[5 rows x 21 columns]"
      ]
     },
     "execution_count": 2,
     "metadata": {},
     "output_type": "execute_result"
    }
   ],
   "source": [
    "df = pd.read_csv(os.path.join(\"..\", \"data\", \"beta_frame.csv\"))\n",
    "df.drop\n",
    "df.head()"
   ]
  },
  {
   "cell_type": "code",
   "execution_count": 3,
   "metadata": {},
   "outputs": [
    {
     "name": "stdout",
     "output_type": "stream",
     "text": [
      "(1688832, 20) (1688832,)\n"
     ]
    }
   ],
   "source": [
    "X = df.drop(\"raster_frame\", axis=1).fillna(0)\n",
    "y = df[\"raster_frame\"]\n",
    "print(X.shape, y.shape)"
   ]
  },
  {
   "cell_type": "code",
   "execution_count": 4,
   "metadata": {},
   "outputs": [
    {
     "name": "stderr",
     "output_type": "stream",
     "text": [
      "C:\\Users\\bruce\\Anaconda3\\lib\\site-packages\\h5py\\__init__.py:36: FutureWarning: Conversion of the second argument of issubdtype from `float` to `np.floating` is deprecated. In future, it will be treated as `np.float64 == np.dtype(float).type`.\n",
      "  from ._conv import register_converters as _register_converters\n",
      "Using TensorFlow backend.\n"
     ]
    }
   ],
   "source": [
    "from sklearn.model_selection import train_test_split\n",
    "from sklearn.preprocessing import LabelEncoder, StandardScaler\n",
    "from keras.utils import to_categorical\n",
    "\n",
    "X_train, X_test, y_train, y_test = train_test_split(\n",
    "    X, y, random_state=1, stratify=y)\n",
    "X_scaler = StandardScaler().fit(X_train)\n",
    "X_train_scaled = X_scaler.transform(X_train)\n",
    "X_test_scaled = X_scaler.transform(X_test)\n",
    "\n",
    "\n",
    "# Step 1: Label-encode data set\n",
    "label_encoder = LabelEncoder()\n",
    "label_encoder.fit(y_train)\n",
    "encoded_y_train = label_encoder.transform(y_train)\n",
    "encoded_y_test = label_encoder.transform(y_test)\n",
    "\n",
    "# Step 2: Convert encoded labels to one-hot-encoding\n",
    "y_train_categorical = to_categorical(encoded_y_train)\n",
    "y_test_categorical = to_categorical(encoded_y_test)"
   ]
  },
  {
   "cell_type": "code",
   "execution_count": 5,
   "metadata": {},
   "outputs": [],
   "source": [
    "from keras.models import Sequential\n",
    "from keras.layers import Dense\n",
    "\n",
    "# Create model and add layers\n",
    "model = Sequential()\n",
    "model.add(Dense(units=100, activation='relu', input_dim=20))\n",
    "model.add(Dense(units=100, activation='relu'))\n",
    "model.add(Dense(units=2, activation='softmax'))"
   ]
  },
  {
   "cell_type": "code",
   "execution_count": 6,
   "metadata": {},
   "outputs": [
    {
     "name": "stdout",
     "output_type": "stream",
     "text": [
      "Epoch 1/10\n",
      " - 33s - loss: 0.1280 - acc: 0.9522\n",
      "Epoch 2/10\n",
      " - 34s - loss: 0.1136 - acc: 0.9567\n",
      "Epoch 3/10\n",
      " - 34s - loss: 0.1083 - acc: 0.9586\n",
      "Epoch 4/10\n",
      " - 36s - loss: 0.1048 - acc: 0.9596\n",
      "Epoch 5/10\n",
      " - 35s - loss: 0.1026 - acc: 0.9604\n",
      "Epoch 6/10\n",
      " - 34s - loss: 0.1006 - acc: 0.9611\n",
      "Epoch 7/10\n",
      " - 34s - loss: 0.0991 - acc: 0.9616\n",
      "Epoch 8/10\n",
      " - 36s - loss: 0.0980 - acc: 0.9622\n",
      "Epoch 9/10\n",
      " - 34s - loss: 0.0968 - acc: 0.9626\n",
      "Epoch 10/10\n",
      " - 33s - loss: 0.0960 - acc: 0.9629\n"
     ]
    },
    {
     "data": {
      "text/plain": [
       "<keras.callbacks.History at 0x26ca31c8c88>"
      ]
     },
     "execution_count": 6,
     "metadata": {},
     "output_type": "execute_result"
    }
   ],
   "source": [
    "# Compile and fit the model\n",
    "model.compile(optimizer='adam',\n",
    "              loss='categorical_crossentropy',\n",
    "              metrics=['accuracy'])\n",
    "model.fit(\n",
    "    X_train_scaled,\n",
    "    y_train_categorical,\n",
    "    epochs=10,\n",
    "    shuffle=True,\n",
    "    verbose=2\n",
    ")"
   ]
  },
  {
   "cell_type": "code",
   "execution_count": 7,
   "metadata": {},
   "outputs": [],
   "source": [
    "# Save the model\n",
    "model.save(os.path.join(\"..\", \"data\", \"fire_trained.h5\"))\n"
   ]
  },
  {
   "cell_type": "code",
   "execution_count": 8,
   "metadata": {},
   "outputs": [],
   "source": [
    "# Load the model\n",
    "from keras.models import load_model\n",
    "voice_model = load_model(os.path.join(\"..\", \"data\", \"fire_trained.h5\"))"
   ]
  },
  {
   "cell_type": "code",
   "execution_count": 9,
   "metadata": {},
   "outputs": [
    {
     "name": "stdout",
     "output_type": "stream",
     "text": [
      "Normal Neural Network - Loss: 0.09616189752585398, Accuracy: 0.9629329619524026\n"
     ]
    }
   ],
   "source": [
    "model_loss, model_accuracy = model.evaluate(\n",
    "    X_test_scaled, y_test_categorical, verbose=2)\n",
    "print(\n",
    "    f\"Normal Neural Network - Loss: {model_loss}, Accuracy: {model_accuracy}\")"
   ]
  },
  {
   "cell_type": "code",
   "execution_count": 10,
   "metadata": {},
   "outputs": [
    {
     "name": "stderr",
     "output_type": "stream",
     "text": [
      "C:\\Users\\bruce\\Anaconda3\\lib\\site-packages\\sklearn\\preprocessing\\label.py:151: DeprecationWarning: The truth value of an empty array is ambiguous. Returning False, but in future this will result in an error. Use `array.size > 0` to check that an array is not empty.\n",
      "  if diff:\n"
     ]
    }
   ],
   "source": [
    "encoded_predictions = model.predict_classes(X_test_scaled[:5])\n",
    "prediction_labels = label_encoder.inverse_transform(encoded_predictions)"
   ]
  },
  {
   "cell_type": "code",
   "execution_count": 11,
   "metadata": {},
   "outputs": [
    {
     "name": "stdout",
     "output_type": "stream",
     "text": [
      "Predicted classes: [0 0 0 0 0]\n",
      "Actual Labels: [0, 0, 0, 0, 0]\n"
     ]
    }
   ],
   "source": [
    "print(f\"Predicted classes: {prediction_labels}\")\n",
    "print(f\"Actual Labels: {list(y_test[:5])}\")"
   ]
  },
  {
   "cell_type": "code",
   "execution_count": null,
   "metadata": {},
   "outputs": [],
   "source": []
  }
 ],
 "metadata": {
  "kernelspec": {
   "display_name": "Python 3",
   "language": "python",
   "name": "python3"
  },
  "language_info": {
   "codemirror_mode": {
    "name": "ipython",
    "version": 3
   },
   "file_extension": ".py",
   "mimetype": "text/x-python",
   "name": "python",
   "nbconvert_exporter": "python",
   "pygments_lexer": "ipython3",
   "version": "3.6.5"
  }
 },
 "nbformat": 4,
 "nbformat_minor": 2
}
