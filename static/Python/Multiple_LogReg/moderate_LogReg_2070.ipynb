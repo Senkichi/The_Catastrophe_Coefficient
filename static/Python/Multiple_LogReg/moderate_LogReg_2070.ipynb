{
 "cells": [
  {
   "cell_type": "code",
   "execution_count": 1,
   "metadata": {},
   "outputs": [],
   "source": [
    "import matplotlib.pyplot as plt \n",
    "import numpy as np\n",
    "import pandas as pd \n",
    "import sklearn"
   ]
  },
  {
   "cell_type": "markdown",
   "metadata": {},
   "source": [
    "## Importing and Cleaning Training Dataset"
   ]
  },
  {
   "cell_type": "code",
   "execution_count": 17,
   "metadata": {},
   "outputs": [
    {
     "data": {
      "text/html": [
       "<div>\n",
       "<style scoped>\n",
       "    .dataframe tbody tr th:only-of-type {\n",
       "        vertical-align: middle;\n",
       "    }\n",
       "\n",
       "    .dataframe tbody tr th {\n",
       "        vertical-align: top;\n",
       "    }\n",
       "\n",
       "    .dataframe thead th {\n",
       "        text-align: right;\n",
       "    }\n",
       "</style>\n",
       "<table border=\"1\" class=\"dataframe\">\n",
       "  <thead>\n",
       "    <tr style=\"text-align: right;\">\n",
       "      <th></th>\n",
       "      <th>raster_frame</th>\n",
       "      <th>Precipitation of Driest Month</th>\n",
       "      <th>Temperature Seasonality</th>\n",
       "      <th>Precipitation of Driest Quarter</th>\n",
       "      <th>Annual Precipitation</th>\n",
       "      <th>Precipitation of Warmest Quarter</th>\n",
       "    </tr>\n",
       "  </thead>\n",
       "  <tbody>\n",
       "    <tr>\n",
       "      <th>0</th>\n",
       "      <td>0</td>\n",
       "      <td>25.0</td>\n",
       "      <td>5390.0</td>\n",
       "      <td>144.0</td>\n",
       "      <td>2184.0</td>\n",
       "      <td>147.0</td>\n",
       "    </tr>\n",
       "    <tr>\n",
       "      <th>1</th>\n",
       "      <td>0</td>\n",
       "      <td>24.0</td>\n",
       "      <td>5385.0</td>\n",
       "      <td>142.0</td>\n",
       "      <td>2196.0</td>\n",
       "      <td>146.0</td>\n",
       "    </tr>\n",
       "    <tr>\n",
       "      <th>2</th>\n",
       "      <td>0</td>\n",
       "      <td>24.0</td>\n",
       "      <td>5407.0</td>\n",
       "      <td>140.0</td>\n",
       "      <td>2162.0</td>\n",
       "      <td>144.0</td>\n",
       "    </tr>\n",
       "    <tr>\n",
       "      <th>3</th>\n",
       "      <td>0</td>\n",
       "      <td>24.0</td>\n",
       "      <td>5437.0</td>\n",
       "      <td>139.0</td>\n",
       "      <td>2144.0</td>\n",
       "      <td>143.0</td>\n",
       "    </tr>\n",
       "    <tr>\n",
       "      <th>4</th>\n",
       "      <td>0</td>\n",
       "      <td>24.0</td>\n",
       "      <td>5438.0</td>\n",
       "      <td>138.0</td>\n",
       "      <td>2188.0</td>\n",
       "      <td>143.0</td>\n",
       "    </tr>\n",
       "  </tbody>\n",
       "</table>\n",
       "</div>"
      ],
      "text/plain": [
       "   raster_frame  Precipitation of Driest Month  Temperature Seasonality  \\\n",
       "0             0                           25.0                   5390.0   \n",
       "1             0                           24.0                   5385.0   \n",
       "2             0                           24.0                   5407.0   \n",
       "3             0                           24.0                   5437.0   \n",
       "4             0                           24.0                   5438.0   \n",
       "\n",
       "   Precipitation of Driest Quarter  Annual Precipitation  \\\n",
       "0                            144.0                2184.0   \n",
       "1                            142.0                2196.0   \n",
       "2                            140.0                2162.0   \n",
       "3                            139.0                2144.0   \n",
       "4                            138.0                2188.0   \n",
       "\n",
       "   Precipitation of Warmest Quarter  \n",
       "0                             147.0  \n",
       "1                             146.0  \n",
       "2                             144.0  \n",
       "3                             143.0  \n",
       "4                             143.0  "
      ]
     },
     "execution_count": 17,
     "metadata": {},
     "output_type": "execute_result"
    }
   ],
   "source": [
    "# Read CSV \n",
    "data = pd.read_csv('../../../Resources/bio_vars_frame.csv')\n",
    "data = data[['raster_frame', 'Precipitation of Driest Month', 'Temperature Seasonality', 'Precipitation of Driest Quarter',\n",
    "             'Annual Precipitation', 'Precipitation of Warmest Quarter']]\n",
    "data.head()"
   ]
  },
  {
   "cell_type": "markdown",
   "metadata": {},
   "source": [
    "## Preprocessing the data for model training-Processing"
   ]
  },
  {
   "cell_type": "code",
   "execution_count": 18,
   "metadata": {},
   "outputs": [
    {
     "name": "stdout",
     "output_type": "stream",
     "text": [
      "(1684856, 5) (1684856,)\n"
     ]
    }
   ],
   "source": [
    "X = data.drop('raster_frame', axis=1)\n",
    "y = data['raster_frame']\n",
    "print(X.shape, y.shape)"
   ]
  },
  {
   "cell_type": "markdown",
   "metadata": {},
   "source": [
    "### Split Data"
   ]
  },
  {
   "cell_type": "code",
   "execution_count": 19,
   "metadata": {},
   "outputs": [],
   "source": [
    "# import train_test_split and split data\n",
    "from sklearn.model_selection import train_test_split\n",
    "\n",
    "X_train, X_test, y_train, y_test = train_test_split(X, y, random_state=42)"
   ]
  },
  {
   "cell_type": "markdown",
   "metadata": {},
   "source": [
    "### Visualize Data"
   ]
  },
  {
   "cell_type": "code",
   "execution_count": 20,
   "metadata": {},
   "outputs": [],
   "source": [
    "# Scatter matrix to visualize relationships between input variables\n",
    "\n",
    "# scatter_df = pd.DataFrame(X_train.sample(n=500), columns= X.columns)\n",
    "# scatter_matrix = pd.plotting.scatter_matrix(scatter_df, c=y_train.sample(n=500), figsize=(50,50), marker='o')"
   ]
  },
  {
   "cell_type": "markdown",
   "metadata": {},
   "source": [
    "### Instantiate Model"
   ]
  },
  {
   "cell_type": "code",
   "execution_count": 21,
   "metadata": {},
   "outputs": [],
   "source": [
    "# import model\n",
    "from sklearn.linear_model import LogisticRegression\n",
    "\n",
    "# instantiate model\n",
    "model = LogisticRegression() "
   ]
  },
  {
   "cell_type": "markdown",
   "metadata": {},
   "source": [
    "## Making a prediction on test data set"
   ]
  },
  {
   "cell_type": "code",
   "execution_count": 22,
   "metadata": {},
   "outputs": [
    {
     "name": "stdout",
     "output_type": "stream",
     "text": [
      "Training Score: 0.9091182470984662\n",
      "Testing Score: 0.9090462330311908\n"
     ]
    }
   ],
   "source": [
    "# fit model to the training data\n",
    "model.fit(X_train, y_train)\n",
    "# calculate scores of training and testing data\n",
    "training_score = model.score(X_train, y_train)\n",
    "testing_score = model.score(X_test, y_test)\n",
    "# print scores \n",
    "print(f'Training Score: {training_score}')\n",
    "print(f'Testing Score: {testing_score}')\n"
   ]
  },
  {
   "cell_type": "code",
   "execution_count": 23,
   "metadata": {},
   "outputs": [
    {
     "name": "stdout",
     "output_type": "stream",
     "text": [
      "[-1.33581961e-01 -1.13168868e-04  1.00395415e-01 -4.58611326e-03\n",
      " -4.96049281e-02]\n"
     ]
    }
   ],
   "source": [
    "coef = model.coef_[0]\n",
    "print(coef)"
   ]
  },
  {
   "cell_type": "code",
   "execution_count": 24,
   "metadata": {
    "scrolled": true
   },
   "outputs": [
    {
     "name": "stdout",
     "output_type": "stream",
     "text": [
      "Training Probability: [[0.84017739 0.15982261]\n",
      " [0.94048908 0.05951092]\n",
      " [0.97624937 0.02375063]\n",
      " ...\n",
      " [0.96859272 0.03140728]\n",
      " [0.87407945 0.12592055]\n",
      " [0.89490301 0.10509699]]\n",
      "Testing Probability: [[0.93384329 0.06615671]\n",
      " [0.92020449 0.07979551]\n",
      " [0.8725379  0.1274621 ]\n",
      " ...\n",
      " [0.9982763  0.0017237 ]\n",
      " [0.80231806 0.19768194]\n",
      " [0.8459095  0.1540905 ]]\n"
     ]
    }
   ],
   "source": [
    "training_prob = model.predict_proba(X_train)\n",
    "testing_prob = model.predict_proba(X_test)\n",
    "\n",
    "\n",
    "print(f'Training Probability: {training_prob}')\n",
    "print(f'Testing Probability: {testing_prob}')"
   ]
  },
  {
   "cell_type": "code",
   "execution_count": 25,
   "metadata": {},
   "outputs": [
    {
     "data": {
      "text/html": [
       "<div>\n",
       "<style scoped>\n",
       "    .dataframe tbody tr th:only-of-type {\n",
       "        vertical-align: middle;\n",
       "    }\n",
       "\n",
       "    .dataframe tbody tr th {\n",
       "        vertical-align: top;\n",
       "    }\n",
       "\n",
       "    .dataframe thead th {\n",
       "        text-align: right;\n",
       "    }\n",
       "</style>\n",
       "<table border=\"1\" class=\"dataframe\">\n",
       "  <thead>\n",
       "    <tr style=\"text-align: right;\">\n",
       "      <th></th>\n",
       "      <th>Prediction</th>\n",
       "      <th>Actual</th>\n",
       "    </tr>\n",
       "  </thead>\n",
       "  <tbody>\n",
       "    <tr>\n",
       "      <th>764786</th>\n",
       "      <td>0.066157</td>\n",
       "      <td>0</td>\n",
       "    </tr>\n",
       "    <tr>\n",
       "      <th>351495</th>\n",
       "      <td>0.079796</td>\n",
       "      <td>1</td>\n",
       "    </tr>\n",
       "    <tr>\n",
       "      <th>1210042</th>\n",
       "      <td>0.127462</td>\n",
       "      <td>0</td>\n",
       "    </tr>\n",
       "    <tr>\n",
       "      <th>1074720</th>\n",
       "      <td>0.000379</td>\n",
       "      <td>0</td>\n",
       "    </tr>\n",
       "    <tr>\n",
       "      <th>1587825</th>\n",
       "      <td>0.038057</td>\n",
       "      <td>0</td>\n",
       "    </tr>\n",
       "    <tr>\n",
       "      <th>1439783</th>\n",
       "      <td>0.127314</td>\n",
       "      <td>0</td>\n",
       "    </tr>\n",
       "    <tr>\n",
       "      <th>257830</th>\n",
       "      <td>0.043222</td>\n",
       "      <td>0</td>\n",
       "    </tr>\n",
       "    <tr>\n",
       "      <th>530628</th>\n",
       "      <td>0.049369</td>\n",
       "      <td>0</td>\n",
       "    </tr>\n",
       "    <tr>\n",
       "      <th>1557436</th>\n",
       "      <td>0.082014</td>\n",
       "      <td>0</td>\n",
       "    </tr>\n",
       "    <tr>\n",
       "      <th>1288260</th>\n",
       "      <td>0.159332</td>\n",
       "      <td>0</td>\n",
       "    </tr>\n",
       "  </tbody>\n",
       "</table>\n",
       "</div>"
      ],
      "text/plain": [
       "         Prediction  Actual\n",
       "764786     0.066157       0\n",
       "351495     0.079796       1\n",
       "1210042    0.127462       0\n",
       "1074720    0.000379       0\n",
       "1587825    0.038057       0\n",
       "1439783    0.127314       0\n",
       "257830     0.043222       0\n",
       "530628     0.049369       0\n",
       "1557436    0.082014       0\n",
       "1288260    0.159332       0"
      ]
     },
     "execution_count": 25,
     "metadata": {},
     "output_type": "execute_result"
    }
   ],
   "source": [
    "train_test_results = pd.DataFrame({\"Prediction\": testing_prob[:,1], \"Actual\": y_test})\n",
    "train_test_results.head(10)"
   ]
  },
  {
   "cell_type": "markdown",
   "metadata": {},
   "source": [
    "## Importing and cleaning new data set"
   ]
  },
  {
   "cell_type": "code",
   "execution_count": 26,
   "metadata": {},
   "outputs": [],
   "source": [
    "mild_2070 = pd.read_csv('../../../Resources/2070_mild.csv')"
   ]
  },
  {
   "cell_type": "code",
   "execution_count": 27,
   "metadata": {},
   "outputs": [],
   "source": [
    "mild_2070.drop(['Unnamed: 0'], axis = 1, inplace = True)\n",
    "mild_2070.dropna(axis = 0, how = 'any', inplace = True)\n",
    "mild_2070.rename(columns={'bc85bi701': 'Annual Mean Temperature', \n",
    "                     'bc85bi702': 'Mean Diurnal Range (Mean of monthly (max temp - min temp))',\n",
    "                     'bc85bi703': 'Isothermality',\n",
    "                     'bc85bi704': 'Temperature Seasonality',\n",
    "                     'bc85bi705': 'Max Temperature of Warmest Month',\n",
    "                     'bc85bi706': 'Min Temperature of Coldest Month',\n",
    "                     'bc85bi707': 'Temperature Annual Range',\n",
    "                     'bc85bi708': 'Mean Temperature of Wettest Quarter',\n",
    "                     'bc85bi709': 'Mean Temperature of Driest Quarter',\n",
    "                     'bc85bi7010': 'Mean Temperature of Warmest Quarter',\n",
    "                     'bc85bi7011': 'Mean Temperature of Coldest Quarter',\n",
    "                     'bc85bi7012': 'Annual Precipitation',\n",
    "                     'bc85bi7013': 'Precipitation of Wettest Month',\n",
    "                     'bc85bi7014': 'Precipitation of Driest Month',\n",
    "                     'bc85bi7015': 'Precipitation Seasonality (Coefficient of Variation)',\n",
    "                     'bc85bi7016': 'Precipitation of Wettest Quarter',\n",
    "                     'bc85bi7017': 'Precipitation of Driest Quarter',\n",
    "                     'bc85bi7018': 'Precipitation of Warmest Quarter',\n",
    "                     'bc85bi7019': 'Precipitation of Coldest Quarter',\n",
    "                    }, inplace=True)\n"
   ]
  },
  {
   "cell_type": "code",
   "execution_count": 28,
   "metadata": {},
   "outputs": [
    {
     "data": {
      "text/html": [
       "<div>\n",
       "<style scoped>\n",
       "    .dataframe tbody tr th:only-of-type {\n",
       "        vertical-align: middle;\n",
       "    }\n",
       "\n",
       "    .dataframe tbody tr th {\n",
       "        vertical-align: top;\n",
       "    }\n",
       "\n",
       "    .dataframe thead th {\n",
       "        text-align: right;\n",
       "    }\n",
       "</style>\n",
       "<table border=\"1\" class=\"dataframe\">\n",
       "  <thead>\n",
       "    <tr style=\"text-align: right;\">\n",
       "      <th></th>\n",
       "      <th>x</th>\n",
       "      <th>y</th>\n",
       "      <th>Annual Mean Temperature</th>\n",
       "      <th>Mean Temperature of Warmest Quarter</th>\n",
       "      <th>Mean Temperature of Coldest Quarter</th>\n",
       "      <th>Annual Precipitation</th>\n",
       "      <th>Precipitation of Wettest Month</th>\n",
       "      <th>Precipitation of Driest Month</th>\n",
       "      <th>Precipitation Seasonality (Coefficient of Variation)</th>\n",
       "      <th>Precipitation of Wettest Quarter</th>\n",
       "      <th>...</th>\n",
       "      <th>Precipitation of Warmest Quarter</th>\n",
       "      <th>Precipitation of Coldest Quarter</th>\n",
       "      <th>Mean Diurnal Range (Mean of monthly (max temp - min temp))</th>\n",
       "      <th>Isothermality</th>\n",
       "      <th>Temperature Seasonality</th>\n",
       "      <th>Max Temperature of Warmest Month</th>\n",
       "      <th>Min Temperature of Coldest Month</th>\n",
       "      <th>Temperature Annual Range</th>\n",
       "      <th>Mean Temperature of Wettest Quarter</th>\n",
       "      <th>Mean Temperature of Driest Quarter</th>\n",
       "    </tr>\n",
       "  </thead>\n",
       "  <tbody>\n",
       "    <tr>\n",
       "      <th>0</th>\n",
       "      <td>-124.779167</td>\n",
       "      <td>49.3375</td>\n",
       "      <td>122</td>\n",
       "      <td>195</td>\n",
       "      <td>68</td>\n",
       "      <td>1887</td>\n",
       "      <td>403</td>\n",
       "      <td>28</td>\n",
       "      <td>72</td>\n",
       "      <td>915</td>\n",
       "      <td>...</td>\n",
       "      <td>102</td>\n",
       "      <td>842</td>\n",
       "      <td>88</td>\n",
       "      <td>37</td>\n",
       "      <td>5191</td>\n",
       "      <td>269</td>\n",
       "      <td>37</td>\n",
       "      <td>232</td>\n",
       "      <td>90</td>\n",
       "      <td>195</td>\n",
       "    </tr>\n",
       "    <tr>\n",
       "      <th>1</th>\n",
       "      <td>-124.770833</td>\n",
       "      <td>49.3375</td>\n",
       "      <td>119</td>\n",
       "      <td>191</td>\n",
       "      <td>66</td>\n",
       "      <td>1906</td>\n",
       "      <td>406</td>\n",
       "      <td>29</td>\n",
       "      <td>72</td>\n",
       "      <td>922</td>\n",
       "      <td>...</td>\n",
       "      <td>105</td>\n",
       "      <td>848</td>\n",
       "      <td>87</td>\n",
       "      <td>37</td>\n",
       "      <td>5116</td>\n",
       "      <td>264</td>\n",
       "      <td>35</td>\n",
       "      <td>229</td>\n",
       "      <td>87</td>\n",
       "      <td>191</td>\n",
       "    </tr>\n",
       "    <tr>\n",
       "      <th>2</th>\n",
       "      <td>-124.762500</td>\n",
       "      <td>49.3375</td>\n",
       "      <td>117</td>\n",
       "      <td>189</td>\n",
       "      <td>65</td>\n",
       "      <td>1911</td>\n",
       "      <td>408</td>\n",
       "      <td>30</td>\n",
       "      <td>72</td>\n",
       "      <td>923</td>\n",
       "      <td>...</td>\n",
       "      <td>107</td>\n",
       "      <td>850</td>\n",
       "      <td>86</td>\n",
       "      <td>37</td>\n",
       "      <td>5120</td>\n",
       "      <td>262</td>\n",
       "      <td>33</td>\n",
       "      <td>229</td>\n",
       "      <td>86</td>\n",
       "      <td>189</td>\n",
       "    </tr>\n",
       "    <tr>\n",
       "      <th>3</th>\n",
       "      <td>-124.754167</td>\n",
       "      <td>49.3375</td>\n",
       "      <td>125</td>\n",
       "      <td>198</td>\n",
       "      <td>70</td>\n",
       "      <td>1854</td>\n",
       "      <td>396</td>\n",
       "      <td>28</td>\n",
       "      <td>73</td>\n",
       "      <td>902</td>\n",
       "      <td>...</td>\n",
       "      <td>99</td>\n",
       "      <td>828</td>\n",
       "      <td>88</td>\n",
       "      <td>37</td>\n",
       "      <td>5216</td>\n",
       "      <td>272</td>\n",
       "      <td>39</td>\n",
       "      <td>233</td>\n",
       "      <td>92</td>\n",
       "      <td>198</td>\n",
       "    </tr>\n",
       "    <tr>\n",
       "      <th>4</th>\n",
       "      <td>-124.745833</td>\n",
       "      <td>49.3375</td>\n",
       "      <td>132</td>\n",
       "      <td>207</td>\n",
       "      <td>75</td>\n",
       "      <td>1814</td>\n",
       "      <td>387</td>\n",
       "      <td>26</td>\n",
       "      <td>73</td>\n",
       "      <td>887</td>\n",
       "      <td>...</td>\n",
       "      <td>92</td>\n",
       "      <td>814</td>\n",
       "      <td>90</td>\n",
       "      <td>37</td>\n",
       "      <td>5333</td>\n",
       "      <td>284</td>\n",
       "      <td>46</td>\n",
       "      <td>238</td>\n",
       "      <td>98</td>\n",
       "      <td>207</td>\n",
       "    </tr>\n",
       "  </tbody>\n",
       "</table>\n",
       "<p>5 rows × 21 columns</p>\n",
       "</div>"
      ],
      "text/plain": [
       "            x        y  Annual Mean Temperature  \\\n",
       "0 -124.779167  49.3375                      122   \n",
       "1 -124.770833  49.3375                      119   \n",
       "2 -124.762500  49.3375                      117   \n",
       "3 -124.754167  49.3375                      125   \n",
       "4 -124.745833  49.3375                      132   \n",
       "\n",
       "   Mean Temperature of Warmest Quarter  Mean Temperature of Coldest Quarter  \\\n",
       "0                                  195                                   68   \n",
       "1                                  191                                   66   \n",
       "2                                  189                                   65   \n",
       "3                                  198                                   70   \n",
       "4                                  207                                   75   \n",
       "\n",
       "   Annual Precipitation  Precipitation of Wettest Month  \\\n",
       "0                  1887                             403   \n",
       "1                  1906                             406   \n",
       "2                  1911                             408   \n",
       "3                  1854                             396   \n",
       "4                  1814                             387   \n",
       "\n",
       "   Precipitation of Driest Month  \\\n",
       "0                             28   \n",
       "1                             29   \n",
       "2                             30   \n",
       "3                             28   \n",
       "4                             26   \n",
       "\n",
       "   Precipitation Seasonality (Coefficient of Variation)  \\\n",
       "0                                                 72      \n",
       "1                                                 72      \n",
       "2                                                 72      \n",
       "3                                                 73      \n",
       "4                                                 73      \n",
       "\n",
       "   Precipitation of Wettest Quarter                 ...                  \\\n",
       "0                               915                 ...                   \n",
       "1                               922                 ...                   \n",
       "2                               923                 ...                   \n",
       "3                               902                 ...                   \n",
       "4                               887                 ...                   \n",
       "\n",
       "   Precipitation of Warmest Quarter  Precipitation of Coldest Quarter  \\\n",
       "0                               102                               842   \n",
       "1                               105                               848   \n",
       "2                               107                               850   \n",
       "3                                99                               828   \n",
       "4                                92                               814   \n",
       "\n",
       "   Mean Diurnal Range (Mean of monthly (max temp - min temp))  Isothermality  \\\n",
       "0                                                 88                      37   \n",
       "1                                                 87                      37   \n",
       "2                                                 86                      37   \n",
       "3                                                 88                      37   \n",
       "4                                                 90                      37   \n",
       "\n",
       "   Temperature Seasonality  Max Temperature of Warmest Month  \\\n",
       "0                     5191                               269   \n",
       "1                     5116                               264   \n",
       "2                     5120                               262   \n",
       "3                     5216                               272   \n",
       "4                     5333                               284   \n",
       "\n",
       "   Min Temperature of Coldest Month  Temperature Annual Range  \\\n",
       "0                                37                       232   \n",
       "1                                35                       229   \n",
       "2                                33                       229   \n",
       "3                                39                       233   \n",
       "4                                46                       238   \n",
       "\n",
       "   Mean Temperature of Wettest Quarter  Mean Temperature of Driest Quarter  \n",
       "0                                   90                                 195  \n",
       "1                                   87                                 191  \n",
       "2                                   86                                 189  \n",
       "3                                   92                                 198  \n",
       "4                                   98                                 207  \n",
       "\n",
       "[5 rows x 21 columns]"
      ]
     },
     "execution_count": 28,
     "metadata": {},
     "output_type": "execute_result"
    }
   ],
   "source": [
    "mild_2070.head()"
   ]
  },
  {
   "cell_type": "code",
   "execution_count": 29,
   "metadata": {},
   "outputs": [
    {
     "data": {
      "text/html": [
       "<div>\n",
       "<style scoped>\n",
       "    .dataframe tbody tr th:only-of-type {\n",
       "        vertical-align: middle;\n",
       "    }\n",
       "\n",
       "    .dataframe tbody tr th {\n",
       "        vertical-align: top;\n",
       "    }\n",
       "\n",
       "    .dataframe thead th {\n",
       "        text-align: right;\n",
       "    }\n",
       "</style>\n",
       "<table border=\"1\" class=\"dataframe\">\n",
       "  <thead>\n",
       "    <tr style=\"text-align: right;\">\n",
       "      <th></th>\n",
       "      <th>Precipitation of Driest Month</th>\n",
       "      <th>Temperature Seasonality</th>\n",
       "      <th>Precipitation of Driest Quarter</th>\n",
       "      <th>Annual Precipitation</th>\n",
       "      <th>Precipitation of Warmest Quarter</th>\n",
       "    </tr>\n",
       "  </thead>\n",
       "  <tbody>\n",
       "    <tr>\n",
       "      <th>0</th>\n",
       "      <td>28</td>\n",
       "      <td>5191</td>\n",
       "      <td>102</td>\n",
       "      <td>1887</td>\n",
       "      <td>102</td>\n",
       "    </tr>\n",
       "    <tr>\n",
       "      <th>1</th>\n",
       "      <td>29</td>\n",
       "      <td>5116</td>\n",
       "      <td>105</td>\n",
       "      <td>1906</td>\n",
       "      <td>105</td>\n",
       "    </tr>\n",
       "    <tr>\n",
       "      <th>2</th>\n",
       "      <td>30</td>\n",
       "      <td>5120</td>\n",
       "      <td>107</td>\n",
       "      <td>1911</td>\n",
       "      <td>107</td>\n",
       "    </tr>\n",
       "    <tr>\n",
       "      <th>3</th>\n",
       "      <td>28</td>\n",
       "      <td>5216</td>\n",
       "      <td>99</td>\n",
       "      <td>1854</td>\n",
       "      <td>99</td>\n",
       "    </tr>\n",
       "    <tr>\n",
       "      <th>4</th>\n",
       "      <td>26</td>\n",
       "      <td>5333</td>\n",
       "      <td>92</td>\n",
       "      <td>1814</td>\n",
       "      <td>92</td>\n",
       "    </tr>\n",
       "  </tbody>\n",
       "</table>\n",
       "</div>"
      ],
      "text/plain": [
       "   Precipitation of Driest Month  Temperature Seasonality  \\\n",
       "0                             28                     5191   \n",
       "1                             29                     5116   \n",
       "2                             30                     5120   \n",
       "3                             28                     5216   \n",
       "4                             26                     5333   \n",
       "\n",
       "   Precipitation of Driest Quarter  Annual Precipitation  \\\n",
       "0                              102                  1887   \n",
       "1                              105                  1906   \n",
       "2                              107                  1911   \n",
       "3                               99                  1854   \n",
       "4                               92                  1814   \n",
       "\n",
       "   Precipitation of Warmest Quarter  \n",
       "0                               102  \n",
       "1                               105  \n",
       "2                               107  \n",
       "3                                99  \n",
       "4                                92  "
      ]
     },
     "execution_count": 29,
     "metadata": {},
     "output_type": "execute_result"
    }
   ],
   "source": [
    "X_new = mild_2070[['Precipitation of Driest Month', 'Temperature Seasonality', 'Precipitation of Driest Quarter',\n",
    "             'Annual Precipitation', 'Precipitation of Warmest Quarter']]\n",
    "\n",
    "X_new.head(5)"
   ]
  },
  {
   "cell_type": "markdown",
   "metadata": {},
   "source": [
    "## Making a prediction on our new data"
   ]
  },
  {
   "cell_type": "code",
   "execution_count": null,
   "metadata": {},
   "outputs": [],
   "source": [
    "mild_2070_prediction = model.predict_proba(X_new)"
   ]
  },
  {
   "cell_type": "markdown",
   "metadata": {},
   "source": [
    "## Creating final dataframe and exporting"
   ]
  },
  {
   "cell_type": "code",
   "execution_count": null,
   "metadata": {},
   "outputs": [],
   "source": [
    "mild_LogReg_2070 = mild_2070[['x', 'y']]\n",
    "mild_LogReg_2070[\"Prediction\"] = mild_2070_prediction[:,1]\n",
    "mild_LogReg_2070.head()"
   ]
  },
  {
   "cell_type": "code",
   "execution_count": null,
   "metadata": {},
   "outputs": [],
   "source": [
    "mild_LogReg_2070.to_csv('mild_LogReg_2070.csv')"
   ]
  }
 ],
 "metadata": {
  "kernelspec": {
   "display_name": "Python 3",
   "language": "python",
   "name": "python3"
  },
  "language_info": {
   "codemirror_mode": {
    "name": "ipython",
    "version": 3
   },
   "file_extension": ".py",
   "mimetype": "text/x-python",
   "name": "python",
   "nbconvert_exporter": "python",
   "pygments_lexer": "ipython3",
   "version": "3.6.8"
  }
 },
 "nbformat": 4,
 "nbformat_minor": 2
}
