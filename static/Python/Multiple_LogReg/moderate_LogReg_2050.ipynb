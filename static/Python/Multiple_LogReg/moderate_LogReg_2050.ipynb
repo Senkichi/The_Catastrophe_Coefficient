{
 "cells": [
  {
   "cell_type": "code",
   "execution_count": 27,
   "metadata": {},
   "outputs": [],
   "source": [
    "import matplotlib.pyplot as plt \n",
    "import numpy as np\n",
    "import pandas as pd \n",
    "import sklearn"
   ]
  },
  {
   "cell_type": "markdown",
   "metadata": {},
   "source": [
    "## Importing and Cleaning Training Dataset"
   ]
  },
  {
   "cell_type": "code",
   "execution_count": 28,
   "metadata": {},
   "outputs": [
    {
     "ename": "FileNotFoundError",
     "evalue": "File b'../../../Resources/bio_vars_frame.csv' does not exist",
     "output_type": "error",
     "traceback": [
      "\u001b[0;31m---------------------------------------------------------------------------\u001b[0m",
      "\u001b[0;31mFileNotFoundError\u001b[0m                         Traceback (most recent call last)",
      "\u001b[0;32m<ipython-input-28-a10cbe271996>\u001b[0m in \u001b[0;36m<module>\u001b[0;34m()\u001b[0m\n\u001b[1;32m      1\u001b[0m \u001b[0;31m# Read CSV\u001b[0m\u001b[0;34m\u001b[0m\u001b[0;34m\u001b[0m\u001b[0;34m\u001b[0m\u001b[0m\n\u001b[0;32m----> 2\u001b[0;31m \u001b[0mdata\u001b[0m \u001b[0;34m=\u001b[0m \u001b[0mpd\u001b[0m\u001b[0;34m.\u001b[0m\u001b[0mread_csv\u001b[0m\u001b[0;34m(\u001b[0m\u001b[0;34m'../../../Resources/bio_vars_frame.csv'\u001b[0m\u001b[0;34m)\u001b[0m\u001b[0;34m\u001b[0m\u001b[0;34m\u001b[0m\u001b[0m\n\u001b[0m\u001b[1;32m      3\u001b[0m data = data[['raster_frame', 'Precipitation of Driest Month', 'Temperature Seasonality', 'Precipitation of Driest Quarter',\n\u001b[1;32m      4\u001b[0m              'Annual Precipitation', 'Precipitation of Warmest Quarter']]\n\u001b[1;32m      5\u001b[0m \u001b[0mdata\u001b[0m\u001b[0;34m.\u001b[0m\u001b[0mhead\u001b[0m\u001b[0;34m(\u001b[0m\u001b[0;34m)\u001b[0m\u001b[0;34m\u001b[0m\u001b[0;34m\u001b[0m\u001b[0m\n",
      "\u001b[0;32m/anaconda3/lib/python3.6/site-packages/pandas/io/parsers.py\u001b[0m in \u001b[0;36mparser_f\u001b[0;34m(filepath_or_buffer, sep, delimiter, header, names, index_col, usecols, squeeze, prefix, mangle_dupe_cols, dtype, engine, converters, true_values, false_values, skipinitialspace, skiprows, nrows, na_values, keep_default_na, na_filter, verbose, skip_blank_lines, parse_dates, infer_datetime_format, keep_date_col, date_parser, dayfirst, iterator, chunksize, compression, thousands, decimal, lineterminator, quotechar, quoting, escapechar, comment, encoding, dialect, tupleize_cols, error_bad_lines, warn_bad_lines, skipfooter, doublequote, delim_whitespace, low_memory, memory_map, float_precision)\u001b[0m\n\u001b[1;32m    676\u001b[0m                     skip_blank_lines=skip_blank_lines)\n\u001b[1;32m    677\u001b[0m \u001b[0;34m\u001b[0m\u001b[0m\n\u001b[0;32m--> 678\u001b[0;31m         \u001b[0;32mreturn\u001b[0m \u001b[0m_read\u001b[0m\u001b[0;34m(\u001b[0m\u001b[0mfilepath_or_buffer\u001b[0m\u001b[0;34m,\u001b[0m \u001b[0mkwds\u001b[0m\u001b[0;34m)\u001b[0m\u001b[0;34m\u001b[0m\u001b[0;34m\u001b[0m\u001b[0m\n\u001b[0m\u001b[1;32m    679\u001b[0m \u001b[0;34m\u001b[0m\u001b[0m\n\u001b[1;32m    680\u001b[0m     \u001b[0mparser_f\u001b[0m\u001b[0;34m.\u001b[0m\u001b[0m__name__\u001b[0m \u001b[0;34m=\u001b[0m \u001b[0mname\u001b[0m\u001b[0;34m\u001b[0m\u001b[0;34m\u001b[0m\u001b[0m\n",
      "\u001b[0;32m/anaconda3/lib/python3.6/site-packages/pandas/io/parsers.py\u001b[0m in \u001b[0;36m_read\u001b[0;34m(filepath_or_buffer, kwds)\u001b[0m\n\u001b[1;32m    438\u001b[0m \u001b[0;34m\u001b[0m\u001b[0m\n\u001b[1;32m    439\u001b[0m     \u001b[0;31m# Create the parser.\u001b[0m\u001b[0;34m\u001b[0m\u001b[0;34m\u001b[0m\u001b[0;34m\u001b[0m\u001b[0m\n\u001b[0;32m--> 440\u001b[0;31m     \u001b[0mparser\u001b[0m \u001b[0;34m=\u001b[0m \u001b[0mTextFileReader\u001b[0m\u001b[0;34m(\u001b[0m\u001b[0mfilepath_or_buffer\u001b[0m\u001b[0;34m,\u001b[0m \u001b[0;34m**\u001b[0m\u001b[0mkwds\u001b[0m\u001b[0;34m)\u001b[0m\u001b[0;34m\u001b[0m\u001b[0;34m\u001b[0m\u001b[0m\n\u001b[0m\u001b[1;32m    441\u001b[0m \u001b[0;34m\u001b[0m\u001b[0m\n\u001b[1;32m    442\u001b[0m     \u001b[0;32mif\u001b[0m \u001b[0mchunksize\u001b[0m \u001b[0;32mor\u001b[0m \u001b[0miterator\u001b[0m\u001b[0;34m:\u001b[0m\u001b[0;34m\u001b[0m\u001b[0;34m\u001b[0m\u001b[0m\n",
      "\u001b[0;32m/anaconda3/lib/python3.6/site-packages/pandas/io/parsers.py\u001b[0m in \u001b[0;36m__init__\u001b[0;34m(self, f, engine, **kwds)\u001b[0m\n\u001b[1;32m    785\u001b[0m             \u001b[0mself\u001b[0m\u001b[0;34m.\u001b[0m\u001b[0moptions\u001b[0m\u001b[0;34m[\u001b[0m\u001b[0;34m'has_index_names'\u001b[0m\u001b[0;34m]\u001b[0m \u001b[0;34m=\u001b[0m \u001b[0mkwds\u001b[0m\u001b[0;34m[\u001b[0m\u001b[0;34m'has_index_names'\u001b[0m\u001b[0;34m]\u001b[0m\u001b[0;34m\u001b[0m\u001b[0;34m\u001b[0m\u001b[0m\n\u001b[1;32m    786\u001b[0m \u001b[0;34m\u001b[0m\u001b[0m\n\u001b[0;32m--> 787\u001b[0;31m         \u001b[0mself\u001b[0m\u001b[0;34m.\u001b[0m\u001b[0m_make_engine\u001b[0m\u001b[0;34m(\u001b[0m\u001b[0mself\u001b[0m\u001b[0;34m.\u001b[0m\u001b[0mengine\u001b[0m\u001b[0;34m)\u001b[0m\u001b[0;34m\u001b[0m\u001b[0;34m\u001b[0m\u001b[0m\n\u001b[0m\u001b[1;32m    788\u001b[0m \u001b[0;34m\u001b[0m\u001b[0m\n\u001b[1;32m    789\u001b[0m     \u001b[0;32mdef\u001b[0m \u001b[0mclose\u001b[0m\u001b[0;34m(\u001b[0m\u001b[0mself\u001b[0m\u001b[0;34m)\u001b[0m\u001b[0;34m:\u001b[0m\u001b[0;34m\u001b[0m\u001b[0;34m\u001b[0m\u001b[0m\n",
      "\u001b[0;32m/anaconda3/lib/python3.6/site-packages/pandas/io/parsers.py\u001b[0m in \u001b[0;36m_make_engine\u001b[0;34m(self, engine)\u001b[0m\n\u001b[1;32m   1012\u001b[0m     \u001b[0;32mdef\u001b[0m \u001b[0m_make_engine\u001b[0m\u001b[0;34m(\u001b[0m\u001b[0mself\u001b[0m\u001b[0;34m,\u001b[0m \u001b[0mengine\u001b[0m\u001b[0;34m=\u001b[0m\u001b[0;34m'c'\u001b[0m\u001b[0;34m)\u001b[0m\u001b[0;34m:\u001b[0m\u001b[0;34m\u001b[0m\u001b[0;34m\u001b[0m\u001b[0m\n\u001b[1;32m   1013\u001b[0m         \u001b[0;32mif\u001b[0m \u001b[0mengine\u001b[0m \u001b[0;34m==\u001b[0m \u001b[0;34m'c'\u001b[0m\u001b[0;34m:\u001b[0m\u001b[0;34m\u001b[0m\u001b[0;34m\u001b[0m\u001b[0m\n\u001b[0;32m-> 1014\u001b[0;31m             \u001b[0mself\u001b[0m\u001b[0;34m.\u001b[0m\u001b[0m_engine\u001b[0m \u001b[0;34m=\u001b[0m \u001b[0mCParserWrapper\u001b[0m\u001b[0;34m(\u001b[0m\u001b[0mself\u001b[0m\u001b[0;34m.\u001b[0m\u001b[0mf\u001b[0m\u001b[0;34m,\u001b[0m \u001b[0;34m**\u001b[0m\u001b[0mself\u001b[0m\u001b[0;34m.\u001b[0m\u001b[0moptions\u001b[0m\u001b[0;34m)\u001b[0m\u001b[0;34m\u001b[0m\u001b[0;34m\u001b[0m\u001b[0m\n\u001b[0m\u001b[1;32m   1015\u001b[0m         \u001b[0;32melse\u001b[0m\u001b[0;34m:\u001b[0m\u001b[0;34m\u001b[0m\u001b[0;34m\u001b[0m\u001b[0m\n\u001b[1;32m   1016\u001b[0m             \u001b[0;32mif\u001b[0m \u001b[0mengine\u001b[0m \u001b[0;34m==\u001b[0m \u001b[0;34m'python'\u001b[0m\u001b[0;34m:\u001b[0m\u001b[0;34m\u001b[0m\u001b[0;34m\u001b[0m\u001b[0m\n",
      "\u001b[0;32m/anaconda3/lib/python3.6/site-packages/pandas/io/parsers.py\u001b[0m in \u001b[0;36m__init__\u001b[0;34m(self, src, **kwds)\u001b[0m\n\u001b[1;32m   1706\u001b[0m         \u001b[0mkwds\u001b[0m\u001b[0;34m[\u001b[0m\u001b[0;34m'usecols'\u001b[0m\u001b[0;34m]\u001b[0m \u001b[0;34m=\u001b[0m \u001b[0mself\u001b[0m\u001b[0;34m.\u001b[0m\u001b[0musecols\u001b[0m\u001b[0;34m\u001b[0m\u001b[0;34m\u001b[0m\u001b[0m\n\u001b[1;32m   1707\u001b[0m \u001b[0;34m\u001b[0m\u001b[0m\n\u001b[0;32m-> 1708\u001b[0;31m         \u001b[0mself\u001b[0m\u001b[0;34m.\u001b[0m\u001b[0m_reader\u001b[0m \u001b[0;34m=\u001b[0m \u001b[0mparsers\u001b[0m\u001b[0;34m.\u001b[0m\u001b[0mTextReader\u001b[0m\u001b[0;34m(\u001b[0m\u001b[0msrc\u001b[0m\u001b[0;34m,\u001b[0m \u001b[0;34m**\u001b[0m\u001b[0mkwds\u001b[0m\u001b[0;34m)\u001b[0m\u001b[0;34m\u001b[0m\u001b[0;34m\u001b[0m\u001b[0m\n\u001b[0m\u001b[1;32m   1709\u001b[0m \u001b[0;34m\u001b[0m\u001b[0m\n\u001b[1;32m   1710\u001b[0m         \u001b[0mpassed_names\u001b[0m \u001b[0;34m=\u001b[0m \u001b[0mself\u001b[0m\u001b[0;34m.\u001b[0m\u001b[0mnames\u001b[0m \u001b[0;32mis\u001b[0m \u001b[0;32mNone\u001b[0m\u001b[0;34m\u001b[0m\u001b[0;34m\u001b[0m\u001b[0m\n",
      "\u001b[0;32mpandas/_libs/parsers.pyx\u001b[0m in \u001b[0;36mpandas._libs.parsers.TextReader.__cinit__\u001b[0;34m()\u001b[0m\n",
      "\u001b[0;32mpandas/_libs/parsers.pyx\u001b[0m in \u001b[0;36mpandas._libs.parsers.TextReader._setup_parser_source\u001b[0;34m()\u001b[0m\n",
      "\u001b[0;31mFileNotFoundError\u001b[0m: File b'../../../Resources/bio_vars_frame.csv' does not exist"
     ]
    }
   ],
   "source": [
    "# Read CSV \n",
    "data = pd.read_csv('../../../Resources/bio_vars_frame.csv')\n",
    "data = data[['raster_frame', 'Precipitation of Driest Month', 'Temperature Seasonality', 'Precipitation of Driest Quarter',\n",
    "             'Annual Precipitation', 'Precipitation of Warmest Quarter']]\n",
    "data.head()"
   ]
  },
  {
   "cell_type": "markdown",
   "metadata": {},
   "source": [
    "## Preprocessing the data for model training-Processing"
   ]
  },
  {
   "cell_type": "code",
   "execution_count": 29,
   "metadata": {},
   "outputs": [
    {
     "name": "stdout",
     "output_type": "stream",
     "text": [
      "(1684856, 5) (1684856,)\n"
     ]
    }
   ],
   "source": [
    "X = data.drop('raster_frame', axis=1)\n",
    "y = data['raster_frame']\n",
    "print(X.shape, y.shape)"
   ]
  },
  {
   "cell_type": "markdown",
   "metadata": {},
   "source": [
    "### Split Data"
   ]
  },
  {
   "cell_type": "code",
   "execution_count": 4,
   "metadata": {},
   "outputs": [],
   "source": [
    "# import train_test_split and split data\n",
    "from sklearn.model_selection import train_test_split\n",
    "\n",
    "X_train, X_test, y_train, y_test = train_test_split(X, y, random_state=42)"
   ]
  },
  {
   "cell_type": "markdown",
   "metadata": {},
   "source": [
    "### Visualize Data"
   ]
  },
  {
   "cell_type": "code",
   "execution_count": 5,
   "metadata": {},
   "outputs": [],
   "source": [
    "# Scatter matrix to visualize relationships between input variables\n",
    "\n",
    "# scatter_df = pd.DataFrame(X_train.sample(n=500), columns= X.columns)\n",
    "# scatter_matrix = pd.plotting.scatter_matrix(scatter_df, c=y_train.sample(n=500), figsize=(50,50), marker='o')"
   ]
  },
  {
   "cell_type": "markdown",
   "metadata": {},
   "source": [
    "### Instantiate Model"
   ]
  },
  {
   "cell_type": "code",
   "execution_count": 6,
   "metadata": {},
   "outputs": [],
   "source": [
    "# import model\n",
    "from sklearn.linear_model import LogisticRegression\n",
    "\n",
    "# instantiate model\n",
    "model = LogisticRegression() "
   ]
  },
  {
   "cell_type": "markdown",
   "metadata": {},
   "source": [
    "## Making a prediction on test data set"
   ]
  },
  {
   "cell_type": "code",
   "execution_count": 7,
   "metadata": {},
   "outputs": [
    {
     "name": "stdout",
     "output_type": "stream",
     "text": [
      "Training Score: 0.9091182470984662\n",
      "Testing Score: 0.9090462330311908\n"
     ]
    }
   ],
   "source": [
    "# fit model to the training data\n",
    "model.fit(X_train, y_train)\n",
    "# calculate scores of training and testing data\n",
    "training_score = model.score(X_train, y_train)\n",
    "testing_score = model.score(X_test, y_test)\n",
    "# print scores \n",
    "print(f'Training Score: {training_score}')\n",
    "print(f'Testing Score: {testing_score}')\n"
   ]
  },
  {
   "cell_type": "code",
   "execution_count": 8,
   "metadata": {},
   "outputs": [
    {
     "name": "stdout",
     "output_type": "stream",
     "text": [
      "[-1.33581961e-01 -1.13168868e-04  1.00395415e-01 -4.58611326e-03\n",
      " -4.96049281e-02]\n"
     ]
    }
   ],
   "source": [
    "coef = model.coef_[0]\n",
    "print(coef)"
   ]
  },
  {
   "cell_type": "code",
   "execution_count": 9,
   "metadata": {
    "scrolled": true
   },
   "outputs": [
    {
     "name": "stdout",
     "output_type": "stream",
     "text": [
      "Training Probability: [[0.84017739 0.15982261]\n",
      " [0.94048908 0.05951092]\n",
      " [0.97624937 0.02375063]\n",
      " ...\n",
      " [0.96859272 0.03140728]\n",
      " [0.87407945 0.12592055]\n",
      " [0.89490301 0.10509699]]\n",
      "Testing Probability: [[0.93384329 0.06615671]\n",
      " [0.92020449 0.07979551]\n",
      " [0.8725379  0.1274621 ]\n",
      " ...\n",
      " [0.9982763  0.0017237 ]\n",
      " [0.80231806 0.19768194]\n",
      " [0.8459095  0.1540905 ]]\n"
     ]
    }
   ],
   "source": [
    "training_prob = model.predict_proba(X_train)\n",
    "testing_prob = model.predict_proba(X_test)\n",
    "\n",
    "\n",
    "print(f'Training Probability: {training_prob}')\n",
    "print(f'Testing Probability: {testing_prob}')"
   ]
  },
  {
   "cell_type": "code",
   "execution_count": 10,
   "metadata": {},
   "outputs": [
    {
     "data": {
      "text/html": [
       "<div>\n",
       "<style scoped>\n",
       "    .dataframe tbody tr th:only-of-type {\n",
       "        vertical-align: middle;\n",
       "    }\n",
       "\n",
       "    .dataframe tbody tr th {\n",
       "        vertical-align: top;\n",
       "    }\n",
       "\n",
       "    .dataframe thead th {\n",
       "        text-align: right;\n",
       "    }\n",
       "</style>\n",
       "<table border=\"1\" class=\"dataframe\">\n",
       "  <thead>\n",
       "    <tr style=\"text-align: right;\">\n",
       "      <th></th>\n",
       "      <th>Prediction</th>\n",
       "      <th>Actual</th>\n",
       "    </tr>\n",
       "  </thead>\n",
       "  <tbody>\n",
       "    <tr>\n",
       "      <th>764786</th>\n",
       "      <td>0.066157</td>\n",
       "      <td>0</td>\n",
       "    </tr>\n",
       "    <tr>\n",
       "      <th>351495</th>\n",
       "      <td>0.079796</td>\n",
       "      <td>1</td>\n",
       "    </tr>\n",
       "    <tr>\n",
       "      <th>1210042</th>\n",
       "      <td>0.127462</td>\n",
       "      <td>0</td>\n",
       "    </tr>\n",
       "    <tr>\n",
       "      <th>1074720</th>\n",
       "      <td>0.000379</td>\n",
       "      <td>0</td>\n",
       "    </tr>\n",
       "    <tr>\n",
       "      <th>1587825</th>\n",
       "      <td>0.038057</td>\n",
       "      <td>0</td>\n",
       "    </tr>\n",
       "    <tr>\n",
       "      <th>1439783</th>\n",
       "      <td>0.127314</td>\n",
       "      <td>0</td>\n",
       "    </tr>\n",
       "    <tr>\n",
       "      <th>257830</th>\n",
       "      <td>0.043222</td>\n",
       "      <td>0</td>\n",
       "    </tr>\n",
       "    <tr>\n",
       "      <th>530628</th>\n",
       "      <td>0.049369</td>\n",
       "      <td>0</td>\n",
       "    </tr>\n",
       "    <tr>\n",
       "      <th>1557436</th>\n",
       "      <td>0.082014</td>\n",
       "      <td>0</td>\n",
       "    </tr>\n",
       "    <tr>\n",
       "      <th>1288260</th>\n",
       "      <td>0.159332</td>\n",
       "      <td>0</td>\n",
       "    </tr>\n",
       "  </tbody>\n",
       "</table>\n",
       "</div>"
      ],
      "text/plain": [
       "         Prediction  Actual\n",
       "764786     0.066157       0\n",
       "351495     0.079796       1\n",
       "1210042    0.127462       0\n",
       "1074720    0.000379       0\n",
       "1587825    0.038057       0\n",
       "1439783    0.127314       0\n",
       "257830     0.043222       0\n",
       "530628     0.049369       0\n",
       "1557436    0.082014       0\n",
       "1288260    0.159332       0"
      ]
     },
     "execution_count": 10,
     "metadata": {},
     "output_type": "execute_result"
    }
   ],
   "source": [
    "train_test_results = pd.DataFrame({\"Prediction\": testing_prob[:,1], \"Actual\": y_test})\n",
    "train_test_results.head(10)"
   ]
  },
  {
   "cell_type": "markdown",
   "metadata": {},
   "source": [
    "## Importing and cleaning new data set"
   ]
  },
  {
   "cell_type": "code",
   "execution_count": 11,
   "metadata": {},
   "outputs": [],
   "source": [
    "mild_2050 = pd.read_csv('../../../Resources/2050_mild.csv')"
   ]
  },
  {
   "cell_type": "code",
   "execution_count": 18,
   "metadata": {},
   "outputs": [],
   "source": [
    "# mild_2050.drop(['Unnamed: 0'], axis = 1, inplace = True)\n",
    "mild_2050.dropna(axis = 0, how = 'any', inplace = True)\n",
    "mild_2050.rename(columns={'bc45bi501': 'Annual Mean Temperature', \n",
    "                     'bc45bi502': 'Mean Diurnal Range (Mean of monthly (max temp - min temp))',\n",
    "                     'bc45bi503': 'Isothermality',\n",
    "                     'bc45bi504': 'Temperature Seasonality',\n",
    "                     'bc45bi505': 'Max Temperature of Warmest Month',\n",
    "                     'bc45bi506': 'Min Temperature of Coldest Month',\n",
    "                     'bc45bi507': 'Temperature Annual Range',\n",
    "                     'bc45bi508': 'Mean Temperature of Wettest Quarter',\n",
    "                     'bc45bi509': 'Mean Temperature of Driest Quarter',\n",
    "                     'bc45bi5010': 'Mean Temperature of Warmest Quarter',\n",
    "                     'bc45bi5011': 'Mean Temperature of Coldest Quarter',\n",
    "                     'bc45bi5012': 'Annual Precipitation',\n",
    "                     'bc45bi5013': 'Precipitation of Wettest Month',\n",
    "                     'bc45bi5014': 'Precipitation of Driest Month',\n",
    "                     'bc45bi5015': 'Precipitation Seasonality (Coefficient of Variation)',\n",
    "                     'bc45bi5016': 'Precipitation of Wettest Quarter',\n",
    "                     'bc45bi5017': 'Precipitation of Driest Quarter',\n",
    "                     'bc45bi5018': 'Precipitation of Warmest Quarter',\n",
    "                     'bc45bi5019': 'Precipitation of Coldest Quarter',\n",
    "                    }, inplace=True)\n"
   ]
  },
  {
   "cell_type": "code",
   "execution_count": 19,
   "metadata": {
    "scrolled": true
   },
   "outputs": [
    {
     "data": {
      "text/html": [
       "<div>\n",
       "<style scoped>\n",
       "    .dataframe tbody tr th:only-of-type {\n",
       "        vertical-align: middle;\n",
       "    }\n",
       "\n",
       "    .dataframe tbody tr th {\n",
       "        vertical-align: top;\n",
       "    }\n",
       "\n",
       "    .dataframe thead th {\n",
       "        text-align: right;\n",
       "    }\n",
       "</style>\n",
       "<table border=\"1\" class=\"dataframe\">\n",
       "  <thead>\n",
       "    <tr style=\"text-align: right;\">\n",
       "      <th></th>\n",
       "      <th>x</th>\n",
       "      <th>y</th>\n",
       "      <th>Annual Mean Temperature</th>\n",
       "      <th>Mean Temperature of Warmest Quarter</th>\n",
       "      <th>Mean Temperature of Coldest Quarter</th>\n",
       "      <th>Annual Precipitation</th>\n",
       "      <th>Precipitation of Wettest Month</th>\n",
       "      <th>Precipitation of Driest Month</th>\n",
       "      <th>Precipitation Seasonality (Coefficient of Variation)</th>\n",
       "      <th>Precipitation of Wettest Quarter</th>\n",
       "      <th>...</th>\n",
       "      <th>Precipitation of Warmest Quarter</th>\n",
       "      <th>Precipitation of Coldest Quarter</th>\n",
       "      <th>Mean Diurnal Range (Mean of monthly (max temp - min temp))</th>\n",
       "      <th>Isothermality</th>\n",
       "      <th>Temperature Seasonality</th>\n",
       "      <th>Max Temperature of Warmest Month</th>\n",
       "      <th>Min Temperature of Coldest Month</th>\n",
       "      <th>Temperature Annual Range</th>\n",
       "      <th>Mean Temperature of Wettest Quarter</th>\n",
       "      <th>Mean Temperature of Driest Quarter</th>\n",
       "    </tr>\n",
       "  </thead>\n",
       "  <tbody>\n",
       "    <tr>\n",
       "      <th>0</th>\n",
       "      <td>-124.779167</td>\n",
       "      <td>49.3375</td>\n",
       "      <td>102</td>\n",
       "      <td>172</td>\n",
       "      <td>45</td>\n",
       "      <td>1842</td>\n",
       "      <td>327</td>\n",
       "      <td>31</td>\n",
       "      <td>66</td>\n",
       "      <td>893</td>\n",
       "      <td>...</td>\n",
       "      <td>133</td>\n",
       "      <td>793</td>\n",
       "      <td>87</td>\n",
       "      <td>37</td>\n",
       "      <td>4993</td>\n",
       "      <td>249</td>\n",
       "      <td>14</td>\n",
       "      <td>235</td>\n",
       "      <td>52</td>\n",
       "      <td>168</td>\n",
       "    </tr>\n",
       "    <tr>\n",
       "      <th>1</th>\n",
       "      <td>-124.770833</td>\n",
       "      <td>49.3375</td>\n",
       "      <td>99</td>\n",
       "      <td>168</td>\n",
       "      <td>43</td>\n",
       "      <td>1860</td>\n",
       "      <td>329</td>\n",
       "      <td>31</td>\n",
       "      <td>66</td>\n",
       "      <td>899</td>\n",
       "      <td>...</td>\n",
       "      <td>136</td>\n",
       "      <td>798</td>\n",
       "      <td>85</td>\n",
       "      <td>36</td>\n",
       "      <td>4915</td>\n",
       "      <td>243</td>\n",
       "      <td>12</td>\n",
       "      <td>231</td>\n",
       "      <td>50</td>\n",
       "      <td>164</td>\n",
       "    </tr>\n",
       "    <tr>\n",
       "      <th>2</th>\n",
       "      <td>-124.762500</td>\n",
       "      <td>49.3375</td>\n",
       "      <td>97</td>\n",
       "      <td>166</td>\n",
       "      <td>42</td>\n",
       "      <td>1866</td>\n",
       "      <td>331</td>\n",
       "      <td>32</td>\n",
       "      <td>66</td>\n",
       "      <td>901</td>\n",
       "      <td>...</td>\n",
       "      <td>137</td>\n",
       "      <td>801</td>\n",
       "      <td>85</td>\n",
       "      <td>36</td>\n",
       "      <td>4909</td>\n",
       "      <td>241</td>\n",
       "      <td>10</td>\n",
       "      <td>231</td>\n",
       "      <td>48</td>\n",
       "      <td>162</td>\n",
       "    </tr>\n",
       "    <tr>\n",
       "      <th>3</th>\n",
       "      <td>-124.754167</td>\n",
       "      <td>49.3375</td>\n",
       "      <td>105</td>\n",
       "      <td>174</td>\n",
       "      <td>47</td>\n",
       "      <td>1810</td>\n",
       "      <td>321</td>\n",
       "      <td>30</td>\n",
       "      <td>67</td>\n",
       "      <td>879</td>\n",
       "      <td>...</td>\n",
       "      <td>130</td>\n",
       "      <td>779</td>\n",
       "      <td>87</td>\n",
       "      <td>36</td>\n",
       "      <td>5015</td>\n",
       "      <td>252</td>\n",
       "      <td>16</td>\n",
       "      <td>236</td>\n",
       "      <td>54</td>\n",
       "      <td>171</td>\n",
       "    </tr>\n",
       "    <tr>\n",
       "      <th>4</th>\n",
       "      <td>-124.745833</td>\n",
       "      <td>49.3375</td>\n",
       "      <td>112</td>\n",
       "      <td>183</td>\n",
       "      <td>51</td>\n",
       "      <td>1764</td>\n",
       "      <td>314</td>\n",
       "      <td>27</td>\n",
       "      <td>68</td>\n",
       "      <td>863</td>\n",
       "      <td>...</td>\n",
       "      <td>122</td>\n",
       "      <td>765</td>\n",
       "      <td>89</td>\n",
       "      <td>36</td>\n",
       "      <td>5143</td>\n",
       "      <td>264</td>\n",
       "      <td>20</td>\n",
       "      <td>244</td>\n",
       "      <td>58</td>\n",
       "      <td>180</td>\n",
       "    </tr>\n",
       "  </tbody>\n",
       "</table>\n",
       "<p>5 rows × 21 columns</p>\n",
       "</div>"
      ],
      "text/plain": [
       "            x        y  Annual Mean Temperature  \\\n",
       "0 -124.779167  49.3375                      102   \n",
       "1 -124.770833  49.3375                       99   \n",
       "2 -124.762500  49.3375                       97   \n",
       "3 -124.754167  49.3375                      105   \n",
       "4 -124.745833  49.3375                      112   \n",
       "\n",
       "   Mean Temperature of Warmest Quarter  Mean Temperature of Coldest Quarter  \\\n",
       "0                                  172                                   45   \n",
       "1                                  168                                   43   \n",
       "2                                  166                                   42   \n",
       "3                                  174                                   47   \n",
       "4                                  183                                   51   \n",
       "\n",
       "   Annual Precipitation  Precipitation of Wettest Month  \\\n",
       "0                  1842                             327   \n",
       "1                  1860                             329   \n",
       "2                  1866                             331   \n",
       "3                  1810                             321   \n",
       "4                  1764                             314   \n",
       "\n",
       "   Precipitation of Driest Month  \\\n",
       "0                             31   \n",
       "1                             31   \n",
       "2                             32   \n",
       "3                             30   \n",
       "4                             27   \n",
       "\n",
       "   Precipitation Seasonality (Coefficient of Variation)  \\\n",
       "0                                                 66      \n",
       "1                                                 66      \n",
       "2                                                 66      \n",
       "3                                                 67      \n",
       "4                                                 68      \n",
       "\n",
       "   Precipitation of Wettest Quarter                 ...                  \\\n",
       "0                               893                 ...                   \n",
       "1                               899                 ...                   \n",
       "2                               901                 ...                   \n",
       "3                               879                 ...                   \n",
       "4                               863                 ...                   \n",
       "\n",
       "   Precipitation of Warmest Quarter  Precipitation of Coldest Quarter  \\\n",
       "0                               133                               793   \n",
       "1                               136                               798   \n",
       "2                               137                               801   \n",
       "3                               130                               779   \n",
       "4                               122                               765   \n",
       "\n",
       "   Mean Diurnal Range (Mean of monthly (max temp - min temp))  Isothermality  \\\n",
       "0                                                 87                      37   \n",
       "1                                                 85                      36   \n",
       "2                                                 85                      36   \n",
       "3                                                 87                      36   \n",
       "4                                                 89                      36   \n",
       "\n",
       "   Temperature Seasonality  Max Temperature of Warmest Month  \\\n",
       "0                     4993                               249   \n",
       "1                     4915                               243   \n",
       "2                     4909                               241   \n",
       "3                     5015                               252   \n",
       "4                     5143                               264   \n",
       "\n",
       "   Min Temperature of Coldest Month  Temperature Annual Range  \\\n",
       "0                                14                       235   \n",
       "1                                12                       231   \n",
       "2                                10                       231   \n",
       "3                                16                       236   \n",
       "4                                20                       244   \n",
       "\n",
       "   Mean Temperature of Wettest Quarter  Mean Temperature of Driest Quarter  \n",
       "0                                   52                                 168  \n",
       "1                                   50                                 164  \n",
       "2                                   48                                 162  \n",
       "3                                   54                                 171  \n",
       "4                                   58                                 180  \n",
       "\n",
       "[5 rows x 21 columns]"
      ]
     },
     "execution_count": 19,
     "metadata": {},
     "output_type": "execute_result"
    }
   ],
   "source": [
    "mild_2050.head()"
   ]
  },
  {
   "cell_type": "code",
   "execution_count": 20,
   "metadata": {},
   "outputs": [
    {
     "data": {
      "text/html": [
       "<div>\n",
       "<style scoped>\n",
       "    .dataframe tbody tr th:only-of-type {\n",
       "        vertical-align: middle;\n",
       "    }\n",
       "\n",
       "    .dataframe tbody tr th {\n",
       "        vertical-align: top;\n",
       "    }\n",
       "\n",
       "    .dataframe thead th {\n",
       "        text-align: right;\n",
       "    }\n",
       "</style>\n",
       "<table border=\"1\" class=\"dataframe\">\n",
       "  <thead>\n",
       "    <tr style=\"text-align: right;\">\n",
       "      <th></th>\n",
       "      <th>Precipitation of Driest Month</th>\n",
       "      <th>Temperature Seasonality</th>\n",
       "      <th>Precipitation of Driest Quarter</th>\n",
       "      <th>Annual Precipitation</th>\n",
       "      <th>Precipitation of Warmest Quarter</th>\n",
       "    </tr>\n",
       "  </thead>\n",
       "  <tbody>\n",
       "    <tr>\n",
       "      <th>0</th>\n",
       "      <td>31</td>\n",
       "      <td>4993</td>\n",
       "      <td>122</td>\n",
       "      <td>1842</td>\n",
       "      <td>133</td>\n",
       "    </tr>\n",
       "    <tr>\n",
       "      <th>1</th>\n",
       "      <td>31</td>\n",
       "      <td>4915</td>\n",
       "      <td>125</td>\n",
       "      <td>1860</td>\n",
       "      <td>136</td>\n",
       "    </tr>\n",
       "    <tr>\n",
       "      <th>2</th>\n",
       "      <td>32</td>\n",
       "      <td>4909</td>\n",
       "      <td>127</td>\n",
       "      <td>1866</td>\n",
       "      <td>137</td>\n",
       "    </tr>\n",
       "    <tr>\n",
       "      <th>3</th>\n",
       "      <td>30</td>\n",
       "      <td>5015</td>\n",
       "      <td>118</td>\n",
       "      <td>1810</td>\n",
       "      <td>130</td>\n",
       "    </tr>\n",
       "    <tr>\n",
       "      <th>4</th>\n",
       "      <td>27</td>\n",
       "      <td>5143</td>\n",
       "      <td>108</td>\n",
       "      <td>1764</td>\n",
       "      <td>122</td>\n",
       "    </tr>\n",
       "  </tbody>\n",
       "</table>\n",
       "</div>"
      ],
      "text/plain": [
       "   Precipitation of Driest Month  Temperature Seasonality  \\\n",
       "0                             31                     4993   \n",
       "1                             31                     4915   \n",
       "2                             32                     4909   \n",
       "3                             30                     5015   \n",
       "4                             27                     5143   \n",
       "\n",
       "   Precipitation of Driest Quarter  Annual Precipitation  \\\n",
       "0                              122                  1842   \n",
       "1                              125                  1860   \n",
       "2                              127                  1866   \n",
       "3                              118                  1810   \n",
       "4                              108                  1764   \n",
       "\n",
       "   Precipitation of Warmest Quarter  \n",
       "0                               133  \n",
       "1                               136  \n",
       "2                               137  \n",
       "3                               130  \n",
       "4                               122  "
      ]
     },
     "execution_count": 20,
     "metadata": {},
     "output_type": "execute_result"
    }
   ],
   "source": [
    "X_new = mild_2050[['Precipitation of Driest Month', 'Temperature Seasonality', 'Precipitation of Driest Quarter', 'Annual Precipitation', 'Precipitation of Warmest Quarter']]\n",
    "\n",
    "X_new.head(5)"
   ]
  },
  {
   "cell_type": "markdown",
   "metadata": {},
   "source": [
    "## Making a prediction on our new data"
   ]
  },
  {
   "cell_type": "code",
   "execution_count": 24,
   "metadata": {},
   "outputs": [],
   "source": [
    "mild_2050_prediction = model.predict_proba(X_new)"
   ]
  },
  {
   "cell_type": "markdown",
   "metadata": {},
   "source": [
    "## Creating final dataframe and exporting"
   ]
  },
  {
   "cell_type": "code",
   "execution_count": 25,
   "metadata": {},
   "outputs": [
    {
     "name": "stderr",
     "output_type": "stream",
     "text": [
      "/anaconda3/lib/python3.6/site-packages/ipykernel_launcher.py:2: SettingWithCopyWarning: \n",
      "A value is trying to be set on a copy of a slice from a DataFrame.\n",
      "Try using .loc[row_indexer,col_indexer] = value instead\n",
      "\n",
      "See the caveats in the documentation: http://pandas.pydata.org/pandas-docs/stable/indexing.html#indexing-view-versus-copy\n",
      "  \n"
     ]
    },
    {
     "data": {
      "text/html": [
       "<div>\n",
       "<style scoped>\n",
       "    .dataframe tbody tr th:only-of-type {\n",
       "        vertical-align: middle;\n",
       "    }\n",
       "\n",
       "    .dataframe tbody tr th {\n",
       "        vertical-align: top;\n",
       "    }\n",
       "\n",
       "    .dataframe thead th {\n",
       "        text-align: right;\n",
       "    }\n",
       "</style>\n",
       "<table border=\"1\" class=\"dataframe\">\n",
       "  <thead>\n",
       "    <tr style=\"text-align: right;\">\n",
       "      <th></th>\n",
       "      <th>x</th>\n",
       "      <th>y</th>\n",
       "      <th>Prediction</th>\n",
       "    </tr>\n",
       "  </thead>\n",
       "  <tbody>\n",
       "    <tr>\n",
       "      <th>0</th>\n",
       "      <td>-124.779167</td>\n",
       "      <td>49.3375</td>\n",
       "      <td>0.000540</td>\n",
       "    </tr>\n",
       "    <tr>\n",
       "      <th>1</th>\n",
       "      <td>-124.770833</td>\n",
       "      <td>49.3375</td>\n",
       "      <td>0.000584</td>\n",
       "    </tr>\n",
       "    <tr>\n",
       "      <th>2</th>\n",
       "      <td>-124.762500</td>\n",
       "      <td>49.3375</td>\n",
       "      <td>0.000578</td>\n",
       "    </tr>\n",
       "    <tr>\n",
       "      <th>3</th>\n",
       "      <td>-124.754167</td>\n",
       "      <td>49.3375</td>\n",
       "      <td>0.000553</td>\n",
       "    </tr>\n",
       "    <tr>\n",
       "      <th>4</th>\n",
       "      <td>-124.745833</td>\n",
       "      <td>49.3375</td>\n",
       "      <td>0.000548</td>\n",
       "    </tr>\n",
       "  </tbody>\n",
       "</table>\n",
       "</div>"
      ],
      "text/plain": [
       "            x        y  Prediction\n",
       "0 -124.779167  49.3375    0.000540\n",
       "1 -124.770833  49.3375    0.000584\n",
       "2 -124.762500  49.3375    0.000578\n",
       "3 -124.754167  49.3375    0.000553\n",
       "4 -124.745833  49.3375    0.000548"
      ]
     },
     "execution_count": 25,
     "metadata": {},
     "output_type": "execute_result"
    }
   ],
   "source": [
    "mild_LogReg_2050 = mild_2050[['x', 'y']]\n",
    "mild_LogReg_2050[\"Prediction\"] = mild_2050_prediction[:,1]\n",
    "mild_LogReg_2050.head()"
   ]
  },
  {
   "cell_type": "code",
   "execution_count": 26,
   "metadata": {},
   "outputs": [],
   "source": [
    "mild_LogReg_2050.to_csv('moderate_LogReg_2050.csv')"
   ]
  },
  {
   "cell_type": "code",
   "execution_count": null,
   "metadata": {},
   "outputs": [],
   "source": []
  }
 ],
 "metadata": {
  "kernelspec": {
   "display_name": "Python 3",
   "language": "python",
   "name": "python3"
  },
  "language_info": {
   "codemirror_mode": {
    "name": "ipython",
    "version": 3
   },
   "file_extension": ".py",
   "mimetype": "text/x-python",
   "name": "python",
   "nbconvert_exporter": "python",
   "pygments_lexer": "ipython3",
   "version": "3.6.8"
  }
 },
 "nbformat": 4,
 "nbformat_minor": 2
}
