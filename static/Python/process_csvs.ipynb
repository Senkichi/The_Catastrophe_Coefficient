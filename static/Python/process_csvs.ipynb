{
 "cells": [
  {
   "cell_type": "code",
   "execution_count": 21,
   "metadata": {},
   "outputs": [],
   "source": [
    "import os\n",
    "import pandas as pd"
   ]
  },
  {
   "cell_type": "code",
   "execution_count": 22,
   "metadata": {},
   "outputs": [],
   "source": [
    "dir_list = os.listdir()"
   ]
  },
  {
   "cell_type": "code",
   "execution_count": 23,
   "metadata": {},
   "outputs": [],
   "source": [
    "dir_list = [file for file in dir_list if \".csv\" in file]"
   ]
  },
  {
   "cell_type": "code",
   "execution_count": 24,
   "metadata": {},
   "outputs": [
    {
     "data": {
      "text/plain": [
       "['2070_mild_final_KNN.csv',\n",
       " '2070_moderate_final.csv',\n",
       " '2050_moderate_final.csv',\n",
       " '2070_harsh_final_KNN.csv',\n",
       " '2050_harsh_final.csv']"
      ]
     },
     "execution_count": 24,
     "metadata": {},
     "output_type": "execute_result"
    }
   ],
   "source": [
    "dir_list"
   ]
  },
  {
   "cell_type": "code",
   "execution_count": 25,
   "metadata": {},
   "outputs": [],
   "source": [
    "def get_even_coords(col):\n",
    "    temp_col = [int(coordinate*1000000) for coordinate in col]\n",
    "    \n",
    "    temp_col = [coordinate for coordinate in temp_col if coordinate % 7 == 0 ]\n",
    "    \n",
    "    temp_col = [round(float(coordinate*10e-7),6) for coordinate in temp_col]\n",
    "    \n",
    "    return temp_col"
   ]
  },
  {
   "cell_type": "code",
   "execution_count": null,
   "metadata": {},
   "outputs": [
    {
     "name": "stdout",
     "output_type": "stream",
     "text": [
      "current df shape: (14735625, 4)\n",
      "processed df shape: (17537, 4)\n",
      "current df shape: (14735625, 4)\n",
      "processed df shape: (17537, 4)\n",
      "current df shape: (14735625, 4)\n",
      "processed df shape: (17537, 4)\n"
     ]
    }
   ],
   "source": [
    "for file in dir_list:\n",
    "    df = pd.read_csv(str(file))\n",
    "    print(\"current df shape:\", df.shape)\n",
    "    even_lat = get_even_coords(df['x'])\n",
    "    even_df = df[df['x'].isin(even_lat)]\n",
    "    even_lon = get_even_coords(even_df['y'])\n",
    "    final_df = even_df[even_df['y'].isin(even_lon)]\n",
    "    print(\"processed df shape:\", final_df.shape)\n",
    "    final_df.to_csv('new_'+ str(file),index=False)"
   ]
  },
  {
   "cell_type": "code",
   "execution_count": null,
   "metadata": {},
   "outputs": [],
   "source": []
  }
 ],
 "metadata": {
  "kernelspec": {
   "display_name": "Python 3",
   "language": "python",
   "name": "python3"
  },
  "language_info": {
   "codemirror_mode": {
    "name": "ipython",
    "version": 3
   },
   "file_extension": ".py",
   "mimetype": "text/x-python",
   "name": "python",
   "nbconvert_exporter": "python",
   "pygments_lexer": "ipython3",
   "version": "3.6.4"
  }
 },
 "nbformat": 4,
 "nbformat_minor": 2
}
